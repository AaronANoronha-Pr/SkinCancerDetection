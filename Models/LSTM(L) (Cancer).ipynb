{
 "cells": [
  {
   "cell_type": "code",
   "execution_count": 1,
   "id": "cbfb1e3c",
   "metadata": {},
   "outputs": [
    {
     "name": "stderr",
     "output_type": "stream",
     "text": [
      "2023-06-21 19:31:01.115018: I tensorflow/core/platform/cpu_feature_guard.cc:193] This TensorFlow binary is optimized with oneAPI Deep Neural Network Library (oneDNN) to use the following CPU instructions in performance-critical operations:  AVX2 FMA\n",
      "To enable them in other operations, rebuild TensorFlow with the appropriate compiler flags.\n",
      "2023-06-21 19:31:01.263998: E tensorflow/stream_executor/cuda/cuda_blas.cc:2981] Unable to register cuBLAS factory: Attempting to register factory for plugin cuBLAS when one has already been registered\n",
      "2023-06-21 19:31:01.748554: W tensorflow/stream_executor/platform/default/dso_loader.cc:64] Could not load dynamic library 'libnvinfer.so.7'; dlerror: libnvinfer.so.7: cannot open shared object file: No such file or directory; LD_LIBRARY_PATH: :/home/aaron/anaconda3/envs/tf/lib/\n",
      "2023-06-21 19:31:01.748626: W tensorflow/stream_executor/platform/default/dso_loader.cc:64] Could not load dynamic library 'libnvinfer_plugin.so.7'; dlerror: libnvinfer_plugin.so.7: cannot open shared object file: No such file or directory; LD_LIBRARY_PATH: :/home/aaron/anaconda3/envs/tf/lib/\n",
      "2023-06-21 19:31:01.748633: W tensorflow/compiler/tf2tensorrt/utils/py_utils.cc:38] TF-TRT Warning: Cannot dlopen some TensorRT libraries. If you would like to use Nvidia GPU with TensorRT, please make sure the missing libraries mentioned above are installed properly.\n"
     ]
    }
   ],
   "source": [
    "import pandas as pd\n",
    "import numpy as np\n",
    "import tensorflow as tf\n",
    "import time\n",
    "import keras\n",
    "import seaborn as sns\n",
    "from tensorflow.keras import regularizers\n",
    "import matplotlib.pyplot as plt\n",
    "import sklearn.metrics as metrics\n",
    "from keras.models import Sequential\n",
    "from keras.layers import LSTM,Dense,Dropout\n",
    "from keras.utils import np_utils\n",
    "from imblearn.over_sampling import RandomOverSampler\n",
    "from sklearn.model_selection import train_test_split\n",
    "from sklearn.preprocessing import StandardScaler\n",
    "from tensorflow.keras.callbacks import ModelCheckpoint, EarlyStopping"
   ]
  },
  {
   "cell_type": "code",
   "execution_count": 2,
   "id": "95922ec7",
   "metadata": {},
   "outputs": [],
   "source": [
    "# Hyper parameters\n",
    "batch_size = 512\n",
    "nb_epoch = 16\n",
    "\n",
    "# Parameters for MNIST dataset\n",
    "img_rows, img_cols = 28, 28\n",
    "num_classes = 7\n",
    "\n",
    "# Parameters for LSTM network\n",
    "nb_lstm = 256\n",
    "nb_time_steps = img_rows\n",
    "dim_input_vector = img_cols"
   ]
  },
  {
   "cell_type": "code",
   "execution_count": 3,
   "id": "116fe28e",
   "metadata": {},
   "outputs": [
    {
     "data": {
      "text/html": [
       "<div>\n",
       "<style scoped>\n",
       "    .dataframe tbody tr th:only-of-type {\n",
       "        vertical-align: middle;\n",
       "    }\n",
       "\n",
       "    .dataframe tbody tr th {\n",
       "        vertical-align: top;\n",
       "    }\n",
       "\n",
       "    .dataframe thead th {\n",
       "        text-align: right;\n",
       "    }\n",
       "</style>\n",
       "<table border=\"1\" class=\"dataframe\">\n",
       "  <thead>\n",
       "    <tr style=\"text-align: right;\">\n",
       "      <th></th>\n",
       "      <th>pixel0000</th>\n",
       "      <th>pixel0001</th>\n",
       "      <th>pixel0002</th>\n",
       "      <th>pixel0003</th>\n",
       "      <th>pixel0004</th>\n",
       "      <th>pixel0005</th>\n",
       "      <th>pixel0006</th>\n",
       "      <th>pixel0007</th>\n",
       "      <th>pixel0008</th>\n",
       "      <th>pixel0009</th>\n",
       "      <th>...</th>\n",
       "      <th>pixel0775</th>\n",
       "      <th>pixel0776</th>\n",
       "      <th>pixel0777</th>\n",
       "      <th>pixel0778</th>\n",
       "      <th>pixel0779</th>\n",
       "      <th>pixel0780</th>\n",
       "      <th>pixel0781</th>\n",
       "      <th>pixel0782</th>\n",
       "      <th>pixel0783</th>\n",
       "      <th>label</th>\n",
       "    </tr>\n",
       "  </thead>\n",
       "  <tbody>\n",
       "    <tr>\n",
       "      <th>0</th>\n",
       "      <td>169</td>\n",
       "      <td>171</td>\n",
       "      <td>170</td>\n",
       "      <td>177</td>\n",
       "      <td>181</td>\n",
       "      <td>182</td>\n",
       "      <td>181</td>\n",
       "      <td>185</td>\n",
       "      <td>194</td>\n",
       "      <td>192</td>\n",
       "      <td>...</td>\n",
       "      <td>184</td>\n",
       "      <td>186</td>\n",
       "      <td>185</td>\n",
       "      <td>180</td>\n",
       "      <td>157</td>\n",
       "      <td>140</td>\n",
       "      <td>140</td>\n",
       "      <td>159</td>\n",
       "      <td>165</td>\n",
       "      <td>2</td>\n",
       "    </tr>\n",
       "    <tr>\n",
       "      <th>1</th>\n",
       "      <td>19</td>\n",
       "      <td>57</td>\n",
       "      <td>105</td>\n",
       "      <td>140</td>\n",
       "      <td>149</td>\n",
       "      <td>148</td>\n",
       "      <td>144</td>\n",
       "      <td>155</td>\n",
       "      <td>170</td>\n",
       "      <td>170</td>\n",
       "      <td>...</td>\n",
       "      <td>172</td>\n",
       "      <td>175</td>\n",
       "      <td>160</td>\n",
       "      <td>144</td>\n",
       "      <td>114</td>\n",
       "      <td>89</td>\n",
       "      <td>47</td>\n",
       "      <td>18</td>\n",
       "      <td>18</td>\n",
       "      <td>2</td>\n",
       "    </tr>\n",
       "    <tr>\n",
       "      <th>2</th>\n",
       "      <td>155</td>\n",
       "      <td>163</td>\n",
       "      <td>161</td>\n",
       "      <td>167</td>\n",
       "      <td>167</td>\n",
       "      <td>172</td>\n",
       "      <td>155</td>\n",
       "      <td>152</td>\n",
       "      <td>165</td>\n",
       "      <td>175</td>\n",
       "      <td>...</td>\n",
       "      <td>163</td>\n",
       "      <td>178</td>\n",
       "      <td>157</td>\n",
       "      <td>166</td>\n",
       "      <td>167</td>\n",
       "      <td>148</td>\n",
       "      <td>141</td>\n",
       "      <td>136</td>\n",
       "      <td>115</td>\n",
       "      <td>2</td>\n",
       "    </tr>\n",
       "    <tr>\n",
       "      <th>3</th>\n",
       "      <td>25</td>\n",
       "      <td>71</td>\n",
       "      <td>116</td>\n",
       "      <td>139</td>\n",
       "      <td>136</td>\n",
       "      <td>153</td>\n",
       "      <td>148</td>\n",
       "      <td>161</td>\n",
       "      <td>172</td>\n",
       "      <td>162</td>\n",
       "      <td>...</td>\n",
       "      <td>125</td>\n",
       "      <td>135</td>\n",
       "      <td>138</td>\n",
       "      <td>137</td>\n",
       "      <td>111</td>\n",
       "      <td>71</td>\n",
       "      <td>32</td>\n",
       "      <td>16</td>\n",
       "      <td>16</td>\n",
       "      <td>2</td>\n",
       "    </tr>\n",
       "    <tr>\n",
       "      <th>4</th>\n",
       "      <td>129</td>\n",
       "      <td>162</td>\n",
       "      <td>181</td>\n",
       "      <td>196</td>\n",
       "      <td>205</td>\n",
       "      <td>208</td>\n",
       "      <td>205</td>\n",
       "      <td>213</td>\n",
       "      <td>225</td>\n",
       "      <td>224</td>\n",
       "      <td>...</td>\n",
       "      <td>210</td>\n",
       "      <td>197</td>\n",
       "      <td>172</td>\n",
       "      <td>190</td>\n",
       "      <td>195</td>\n",
       "      <td>193</td>\n",
       "      <td>181</td>\n",
       "      <td>147</td>\n",
       "      <td>88</td>\n",
       "      <td>2</td>\n",
       "    </tr>\n",
       "  </tbody>\n",
       "</table>\n",
       "<p>5 rows × 785 columns</p>\n",
       "</div>"
      ],
      "text/plain": [
       "   pixel0000  pixel0001  pixel0002  pixel0003  pixel0004  pixel0005   \n",
       "0        169        171        170        177        181        182  \\\n",
       "1         19         57        105        140        149        148   \n",
       "2        155        163        161        167        167        172   \n",
       "3         25         71        116        139        136        153   \n",
       "4        129        162        181        196        205        208   \n",
       "\n",
       "   pixel0006  pixel0007  pixel0008  pixel0009  ...  pixel0775  pixel0776   \n",
       "0        181        185        194        192  ...        184        186  \\\n",
       "1        144        155        170        170  ...        172        175   \n",
       "2        155        152        165        175  ...        163        178   \n",
       "3        148        161        172        162  ...        125        135   \n",
       "4        205        213        225        224  ...        210        197   \n",
       "\n",
       "   pixel0777  pixel0778  pixel0779  pixel0780  pixel0781  pixel0782   \n",
       "0        185        180        157        140        140        159  \\\n",
       "1        160        144        114         89         47         18   \n",
       "2        157        166        167        148        141        136   \n",
       "3        138        137        111         71         32         16   \n",
       "4        172        190        195        193        181        147   \n",
       "\n",
       "   pixel0783  label  \n",
       "0        165      2  \n",
       "1         18      2  \n",
       "2        115      2  \n",
       "3         16      2  \n",
       "4         88      2  \n",
       "\n",
       "[5 rows x 785 columns]"
      ]
     },
     "execution_count": 3,
     "metadata": {},
     "output_type": "execute_result"
    }
   ],
   "source": [
    "df = pd.read_csv(\"//home//aaron//Downloads//archive//hmnist_28_28_L.csv\")\n",
    "df.head()"
   ]
  },
  {
   "cell_type": "code",
   "execution_count": 4,
   "id": "09ee810d",
   "metadata": {},
   "outputs": [
    {
     "name": "stdout",
     "output_type": "stream",
     "text": [
      "Shape of images: (46935, 28, 28)\n"
     ]
    }
   ],
   "source": [
    "# Remove label column and normalize the images\n",
    "scaler = StandardScaler()\n",
    "images = scaler.fit_transform(df.drop(['label'], axis=1))\n",
    "\n",
    "# Create a RandomOverSampler instance\n",
    "oversample = RandomOverSampler()\n",
    "\n",
    "# Apply oversampling to both images and labels\n",
    "images, labels = oversample.fit_resample(images, df['label'])\n",
    "\n",
    "# Reshape the images\n",
    "images = images.reshape(-1, 28, 28)\n",
    "\n",
    "print('Shape of images:', images.shape)"
   ]
  },
  {
   "cell_type": "code",
   "execution_count": 5,
   "id": "20d0a8cf",
   "metadata": {},
   "outputs": [
    {
     "name": "stdout",
     "output_type": "stream",
     "text": [
      "X_train shape: (37548, 28, 28)\n",
      "37548 train samples\n",
      "9387 test samples\n"
     ]
    }
   ],
   "source": [
    "#state is set to a constant so that the splitting can be done reproducibly\n",
    "x_train, x_test, y_train, y_test = train_test_split(images, labels, random_state=1, test_size=0.2)\n",
    "\n",
    "# encoding labels to one-hot vectors\n",
    "y_train = keras.utils.np_utils.to_categorical(y_train, num_classes)\n",
    "y_test = keras.utils.np_utils.to_categorical(y_test, num_classes)\n",
    "\n",
    "print('X_train shape:', x_train.shape)\n",
    "print(x_train.shape[0], 'train samples')\n",
    "print(x_test.shape[0], 'test samples')"
   ]
  },
  {
   "cell_type": "code",
   "execution_count": 6,
   "id": "c96fafb1",
   "metadata": {},
   "outputs": [],
   "source": [
    "start = time.time()"
   ]
  },
  {
   "cell_type": "code",
   "execution_count": 7,
   "id": "393cc271",
   "metadata": {
    "scrolled": true
   },
   "outputs": [
    {
     "name": "stderr",
     "output_type": "stream",
     "text": [
      "2023-06-21 19:31:04.245205: I tensorflow/stream_executor/cuda/cuda_gpu_executor.cc:980] successful NUMA node read from SysFS had negative value (-1), but there must be at least one NUMA node, so returning NUMA node zero\n",
      "2023-06-21 19:31:04.249620: I tensorflow/stream_executor/cuda/cuda_gpu_executor.cc:980] successful NUMA node read from SysFS had negative value (-1), but there must be at least one NUMA node, so returning NUMA node zero\n",
      "2023-06-21 19:31:04.249836: I tensorflow/stream_executor/cuda/cuda_gpu_executor.cc:980] successful NUMA node read from SysFS had negative value (-1), but there must be at least one NUMA node, so returning NUMA node zero\n",
      "2023-06-21 19:31:04.250330: I tensorflow/core/platform/cpu_feature_guard.cc:193] This TensorFlow binary is optimized with oneAPI Deep Neural Network Library (oneDNN) to use the following CPU instructions in performance-critical operations:  AVX2 FMA\n",
      "To enable them in other operations, rebuild TensorFlow with the appropriate compiler flags.\n",
      "2023-06-21 19:31:04.251502: I tensorflow/stream_executor/cuda/cuda_gpu_executor.cc:980] successful NUMA node read from SysFS had negative value (-1), but there must be at least one NUMA node, so returning NUMA node zero\n",
      "2023-06-21 19:31:04.251721: I tensorflow/stream_executor/cuda/cuda_gpu_executor.cc:980] successful NUMA node read from SysFS had negative value (-1), but there must be at least one NUMA node, so returning NUMA node zero\n",
      "2023-06-21 19:31:04.251851: I tensorflow/stream_executor/cuda/cuda_gpu_executor.cc:980] successful NUMA node read from SysFS had negative value (-1), but there must be at least one NUMA node, so returning NUMA node zero\n",
      "2023-06-21 19:31:04.713199: I tensorflow/stream_executor/cuda/cuda_gpu_executor.cc:980] successful NUMA node read from SysFS had negative value (-1), but there must be at least one NUMA node, so returning NUMA node zero\n",
      "2023-06-21 19:31:04.713398: I tensorflow/stream_executor/cuda/cuda_gpu_executor.cc:980] successful NUMA node read from SysFS had negative value (-1), but there must be at least one NUMA node, so returning NUMA node zero\n",
      "2023-06-21 19:31:04.713537: I tensorflow/stream_executor/cuda/cuda_gpu_executor.cc:980] successful NUMA node read from SysFS had negative value (-1), but there must be at least one NUMA node, so returning NUMA node zero\n",
      "2023-06-21 19:31:04.713648: I tensorflow/core/common_runtime/gpu/gpu_device.cc:1616] Created device /job:localhost/replica:0/task:0/device:GPU:0 with 2112 MB memory:  -> device: 0, name: NVIDIA GeForce RTX 3050 Laptop GPU, pci bus id: 0000:01:00.0, compute capability: 8.6\n"
     ]
    },
    {
     "name": "stdout",
     "output_type": "stream",
     "text": [
      "Model: \"sequential\"\n",
      "_________________________________________________________________\n",
      " Layer (type)                Output Shape              Param #   \n",
      "=================================================================\n",
      " lstm (LSTM)                 (None, 28, 256)           291840    \n",
      "                                                                 \n",
      " dropout (Dropout)           (None, 28, 256)           0         \n",
      "                                                                 \n",
      " lstm_1 (LSTM)               (None, 28, 256)           525312    \n",
      "                                                                 \n",
      " dropout_1 (Dropout)         (None, 28, 256)           0         \n",
      "                                                                 \n",
      " lstm_2 (LSTM)               (None, 256)               525312    \n",
      "                                                                 \n",
      " dropout_2 (Dropout)         (None, 256)               0         \n",
      "                                                                 \n",
      " dense (Dense)               (None, 7)                 1799      \n",
      "                                                                 \n",
      "=================================================================\n",
      "Total params: 1,344,263\n",
      "Trainable params: 1,344,263\n",
      "Non-trainable params: 0\n",
      "_________________________________________________________________\n",
      "Epoch 1/16\n"
     ]
    },
    {
     "name": "stderr",
     "output_type": "stream",
     "text": [
      "2023-06-21 19:31:08.870536: I tensorflow/stream_executor/cuda/cuda_dnn.cc:384] Loaded cuDNN version 8100\n"
     ]
    },
    {
     "name": "stdout",
     "output_type": "stream",
     "text": [
      "\r",
      " 1/59 [..............................] - ETA: 3:59 - loss: 1.9580 - accuracy: 0.1309"
     ]
    },
    {
     "name": "stderr",
     "output_type": "stream",
     "text": [
      "2023-06-21 19:31:09.629808: I tensorflow/stream_executor/cuda/cuda_blas.cc:1614] TensorFloat-32 will be used for the matrix multiplication. This will only be logged once.\n"
     ]
    },
    {
     "name": "stdout",
     "output_type": "stream",
     "text": [
      "59/59 [==============================] - ETA: 0s - loss: 1.6104 - accuracy: 0.3535\n",
      "Epoch 1: val_accuracy improved from -inf to 0.44767, saving model to trained-models/lstm-best-model-L.h5\n",
      "59/59 [==============================] - 8s 59ms/step - loss: 1.6104 - accuracy: 0.3535 - val_loss: 1.3939 - val_accuracy: 0.4477\n",
      "Epoch 2/16\n",
      "59/59 [==============================] - ETA: 0s - loss: 1.2524 - accuracy: 0.5198\n",
      "Epoch 2: val_accuracy improved from 0.44767 to 0.60426, saving model to trained-models/lstm-best-model-L.h5\n",
      "59/59 [==============================] - 3s 46ms/step - loss: 1.2524 - accuracy: 0.5198 - val_loss: 1.0417 - val_accuracy: 0.6043\n",
      "Epoch 3/16\n",
      "59/59 [==============================] - ETA: 0s - loss: 0.9383 - accuracy: 0.6468\n",
      "Epoch 3: val_accuracy improved from 0.60426 to 0.70706, saving model to trained-models/lstm-best-model-L.h5\n",
      "59/59 [==============================] - 3s 46ms/step - loss: 0.9383 - accuracy: 0.6468 - val_loss: 0.7714 - val_accuracy: 0.7071\n",
      "Epoch 4/16\n",
      "59/59 [==============================] - ETA: 0s - loss: 0.7010 - accuracy: 0.7362\n",
      "Epoch 4: val_accuracy improved from 0.70706 to 0.77936, saving model to trained-models/lstm-best-model-L.h5\n",
      "59/59 [==============================] - 3s 46ms/step - loss: 0.7010 - accuracy: 0.7362 - val_loss: 0.5781 - val_accuracy: 0.7794\n",
      "Epoch 5/16\n",
      "59/59 [==============================] - ETA: 0s - loss: 0.5344 - accuracy: 0.7997\n",
      "Epoch 5: val_accuracy improved from 0.77936 to 0.82463, saving model to trained-models/lstm-best-model-L.h5\n",
      "59/59 [==============================] - 3s 46ms/step - loss: 0.5344 - accuracy: 0.7997 - val_loss: 0.4712 - val_accuracy: 0.8246\n",
      "Epoch 6/16\n",
      "59/59 [==============================] - ETA: 0s - loss: 0.4338 - accuracy: 0.8417\n",
      "Epoch 6: val_accuracy improved from 0.82463 to 0.85792, saving model to trained-models/lstm-best-model-L.h5\n",
      "59/59 [==============================] - 3s 46ms/step - loss: 0.4338 - accuracy: 0.8417 - val_loss: 0.4035 - val_accuracy: 0.8579\n",
      "Epoch 7/16\n",
      "59/59 [==============================] - ETA: 0s - loss: 0.3394 - accuracy: 0.8763\n",
      "Epoch 7: val_accuracy improved from 0.85792 to 0.88269, saving model to trained-models/lstm-best-model-L.h5\n",
      "59/59 [==============================] - 3s 46ms/step - loss: 0.3394 - accuracy: 0.8763 - val_loss: 0.3468 - val_accuracy: 0.8827\n",
      "Epoch 8/16\n",
      "59/59 [==============================] - ETA: 0s - loss: 0.2842 - accuracy: 0.8980\n",
      "Epoch 8: val_accuracy improved from 0.88269 to 0.90573, saving model to trained-models/lstm-best-model-L.h5\n",
      "59/59 [==============================] - 3s 47ms/step - loss: 0.2842 - accuracy: 0.8980 - val_loss: 0.2730 - val_accuracy: 0.9057\n",
      "Epoch 9/16\n",
      "59/59 [==============================] - ETA: 0s - loss: 0.2462 - accuracy: 0.9123\n",
      "Epoch 9: val_accuracy did not improve from 0.90573\n",
      "59/59 [==============================] - 3s 46ms/step - loss: 0.2462 - accuracy: 0.9123 - val_loss: 0.2856 - val_accuracy: 0.9024\n",
      "Epoch 10/16\n",
      "59/59 [==============================] - ETA: 0s - loss: 0.2211 - accuracy: 0.9221\n",
      "Epoch 10: val_accuracy improved from 0.90573 to 0.92570, saving model to trained-models/lstm-best-model-L.h5\n",
      "59/59 [==============================] - 3s 46ms/step - loss: 0.2211 - accuracy: 0.9221 - val_loss: 0.2245 - val_accuracy: 0.9257\n",
      "Epoch 11/16\n",
      "59/59 [==============================] - ETA: 0s - loss: 0.1739 - accuracy: 0.9392\n",
      "Epoch 11: val_accuracy did not improve from 0.92570\n",
      "59/59 [==============================] - 3s 45ms/step - loss: 0.1739 - accuracy: 0.9392 - val_loss: 0.2388 - val_accuracy: 0.9252\n",
      "Epoch 12/16\n",
      "59/59 [==============================] - ETA: 0s - loss: 0.1714 - accuracy: 0.9404\n",
      "Epoch 12: val_accuracy did not improve from 0.92570\n",
      "59/59 [==============================] - 3s 45ms/step - loss: 0.1714 - accuracy: 0.9404 - val_loss: 0.2375 - val_accuracy: 0.9257\n",
      "Epoch 13/16\n",
      "59/59 [==============================] - ETA: 0s - loss: 0.1503 - accuracy: 0.9477\n",
      "Epoch 13: val_accuracy improved from 0.92570 to 0.94461, saving model to trained-models/lstm-best-model-L.h5\n",
      "59/59 [==============================] - 3s 47ms/step - loss: 0.1503 - accuracy: 0.9477 - val_loss: 0.1839 - val_accuracy: 0.9446\n",
      "Epoch 14/16\n",
      "59/59 [==============================] - ETA: 0s - loss: 0.1107 - accuracy: 0.9618\n",
      "Epoch 14: val_accuracy did not improve from 0.94461\n",
      "59/59 [==============================] - 3s 45ms/step - loss: 0.1107 - accuracy: 0.9618 - val_loss: 0.1989 - val_accuracy: 0.9390\n",
      "Epoch 15/16\n",
      "59/59 [==============================] - ETA: 0s - loss: 0.1199 - accuracy: 0.9590\n",
      "Epoch 15: val_accuracy did not improve from 0.94461\n",
      "59/59 [==============================] - 3s 45ms/step - loss: 0.1199 - accuracy: 0.9590 - val_loss: 0.1947 - val_accuracy: 0.9395\n",
      "Epoch 16/16\n",
      "59/59 [==============================] - ETA: 0s - loss: 0.1125 - accuracy: 0.9608\n",
      "Epoch 16: val_accuracy improved from 0.94461 to 0.95473, saving model to trained-models/lstm-best-model-L.h5\n",
      "59/59 [==============================] - 3s 49ms/step - loss: 0.1125 - accuracy: 0.9608 - val_loss: 0.1567 - val_accuracy: 0.9547\n"
     ]
    }
   ],
   "source": [
    "# Define the LSTM network\n",
    "model = Sequential()\n",
    "model.add(LSTM(nb_lstm, input_shape=(nb_time_steps, dim_input_vector), return_sequences=True))\n",
    "model.add(Dropout(0.5))\n",
    "model.add(LSTM(nb_lstm, return_sequences=True)) \n",
    "model.add(Dropout(0.5))\n",
    "model.add(LSTM(nb_lstm, return_sequences=False)) \n",
    "model.add(Dropout(0.5))\n",
    "model.add(Dense(num_classes, activation='softmax'))\n",
    "model.summary()\n",
    "\n",
    "\n",
    "checkpoint_filepath = 'trained-models/lstm-best-model-L.h5'\n",
    "\n",
    "# Define the callbacks\n",
    "callback_checkpoint = ModelCheckpoint(filepath=checkpoint_filepath, monitor='val_accuracy', mode='max', verbose=1, save_best_only=True)\n",
    "callback_early_stopping = EarlyStopping(monitor='val_accuracy', mode='max', patience=5, verbose=1)\n",
    "\n",
    "model.compile(optimizer='adam', loss='categorical_crossentropy', metrics=['accuracy'])\n",
    "\n",
    "# Fitting the model\n",
    "history = model.fit(x_train, y_train, epochs=nb_epoch, batch_size=batch_size, callbacks=[callback_checkpoint, callback_early_stopping], validation_split=0.2)\n",
    "\n",
    "stop = time.time()\n",
    "\n",
    "# Evaluating the model\n",
    "score = model.evaluate(x_test, y_test, verbose=0)\n"
   ]
  },
  {
   "cell_type": "code",
   "execution_count": 8,
   "id": "98c89378",
   "metadata": {},
   "outputs": [
    {
     "name": "stdout",
     "output_type": "stream",
     "text": [
      "Summary: Loss over the test dataset: 0.17,\n",
      "Accuracy: 95.11%\n"
     ]
    }
   ],
   "source": [
    "stop = time.time()\n",
    "\n",
    "# Evaluating the model\n",
    "score = model.evaluate(x_test, y_test, verbose=0)\n",
    "print('Summary: Loss over the test dataset: %.2f,' % (score[0]))\n",
    "print('Accuracy: %.2f%%' % (score[1] * 100))"
   ]
  },
  {
   "cell_type": "code",
   "execution_count": 9,
   "id": "3eeacbeb",
   "metadata": {},
   "outputs": [
    {
     "name": "stdout",
     "output_type": "stream",
     "text": [
      "294/294 [==============================] - 2s 6ms/step\n"
     ]
    }
   ],
   "source": [
    "y_pred = model.predict(x_test)\n",
    "y_pred_classes = np.argmax(y_pred, axis=1)\n",
    "y_true = np.argmax(y_test, axis=1)\n",
    "\n",
    "# Get the unique class labels\n",
    "class_labels = np.unique(np.concatenate((y_true, y_pred_classes)))\n",
    "\n",
    "# Create the confusion matrix\n",
    "confusion_matrix = metrics.confusion_matrix(y_true=y_true, y_pred=y_pred_classes, labels=class_labels)"
   ]
  },
  {
   "cell_type": "code",
   "execution_count": 10,
   "id": "fe7adda0",
   "metadata": {},
   "outputs": [
    {
     "data": {
      "image/png": "[encoded data removed]",
      "text/plain": [
       "<Figure size 640x480 with 2 Axes>"
      ]
     },
     "metadata": {},
     "output_type": "display_data"
    }
   ],
   "source": [
    "# Create the heatmap\n",
    "ax = sns.heatmap(confusion_matrix, fmt='d', cmap='Blues')\n",
    "\n",
    "# Set the title and labels\n",
    "ax.set_title('Confusion Matrix with labels')\n",
    "ax.set_xlabel('Predicted Labels')\n",
    "ax.set_ylabel('Actual Labels')\n",
    "\n",
    "ax.set_xticklabels(ax.get_xticklabels(), fontsize=10)\n",
    "ax.set_yticklabels(ax.get_yticklabels(), fontsize=10)\n",
    "ax.collections[0].colorbar.ax.tick_params(labelsize=10)\n",
    "\n",
    "# Add value annotations\n",
    "for i in range(confusion_matrix.shape[0]):\n",
    "    for j in range(confusion_matrix.shape[1]):\n",
    "        ax.text(j + 0.5, i + 0.5, f'{confusion_matrix[i, j]}',\n",
    "                ha='center', va='center', color='black', fontsize=10)\n",
    "\n",
    "plt.show()"
   ]
  },
  {
   "cell_type": "code",
   "execution_count": 11,
   "id": "dc38ce4d",
   "metadata": {},
   "outputs": [
    {
     "data": {
      "image/png": "[encoded data removed]",
      "text/plain": [
       "<Figure size 800x600 with 1 Axes>"
      ]
     },
     "metadata": {},
     "output_type": "display_data"
    }
   ],
   "source": [
    "frac_error = 1 - np.diag(confusion_matrix) / np.sum(confusion_matrix, axis=1)\n",
    "\n",
    "# Sort classes based on incorrect prediction fraction\n",
    "sorted_indices = np.argsort(frac_error)[::-1]\n",
    "frac_error_sorted = frac_error[sorted_indices]\n",
    "\n",
    "# Create the figure and plot\n",
    "plt.figure(figsize=(8, 6))\n",
    "plt.bar(np.arange(len(frac_error_sorted)), frac_error_sorted)\n",
    "\n",
    "# Add labels to the bars\n",
    "for i, frac in enumerate(frac_error_sorted):\n",
    "    plt.text(i, frac + 0.02, f'{frac:.2f}', ha='center', va='bottom')\n",
    "\n",
    "# Set the x-axis ticks and labels\n",
    "plt.xticks(np.arange(len(frac_error_sorted)), sorted_indices)\n",
    "plt.xlabel('True Label')\n",
    "plt.ylabel('Fraction classified incorrectly')\n",
    "plt.title('Incorrect prediction fraction of labels')\n",
    "\n",
    "plt.show()\n"
   ]
  }
 ],
 "metadata": {
  "kernelspec": {
   "display_name": "Python 3 (ipykernel)",
   "language": "python",
   "name": "python3"
  },
  "language_info": {
   "codemirror_mode": {
    "name": "ipython",
    "version": 3
   },
   "file_extension": ".py",
   "mimetype": "text/x-python",
   "name": "python",
   "nbconvert_exporter": "python",
   "pygments_lexer": "ipython3",
   "version": "3.9.16"
  }
 },
 "nbformat": 4,
 "nbformat_minor": 5
}
